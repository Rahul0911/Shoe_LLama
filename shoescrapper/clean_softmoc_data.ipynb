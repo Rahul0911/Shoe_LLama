{
 "cells": [
  {
   "cell_type": "code",
   "execution_count": 1,
   "metadata": {},
   "outputs": [],
   "source": [
    "import pandas as pd \n",
    "pd.set_option('max_colwidth', None)\n",
    "import re"
   ]
  },
  {
   "cell_type": "code",
   "execution_count": 2,
   "metadata": {},
   "outputs": [],
   "source": [
    "def get_clean(data):\n",
    "    data = data.rename(columns={'productbrand': 'Product_Brand' ,'griditemdetails_URL1': 'Link' ,'Text': 'Shoe_Name', 'Text1': 'Item_ID', 'Text2': 'Product_Details'})\n",
    "\n",
    "    data['Shoe_Name'] = data['Shoe_Name'].str.replace(r'\\n', '', regex=True)\n",
    "    data['Just_Price'] = data['Price'].str.extract(r'(\\d+\\.\\d+)', expand=False).astype(float)\n",
    "\n",
    "    data[\"Product_Details\"] = data[\"Product_Details\"].astype(str)\n",
    "    data[\"Product_Description\"] = data[\"Product_Details\"].apply( lambda x: re.sub(r'\\n.*?\\n', '', x, count=1).replace('\\n', ' ').strip())\n",
    "\n",
    "    data = data.drop(columns= ['Name', 'Price', 'Product_Details'])\n",
    "\n",
    "    data['Item_ID'] = data['Item_ID'].str.replace(r'Item ID:', '', regex=True)\n",
    "    data = data.iloc[:, [0, 2, 3, 4, 5, 1]]\n",
    "\n",
    "    data = data.rename(columns={'Just_Price': 'Price', 'Product_Description': 'Product_Details'})\n",
    "    data = data.drop_duplicates(subset=['Shoe_Name'], keep='first')\n",
    "\n",
    "    data.to_csv(r'C:\\Users\\msi1\\Videos\\LLama_Project\\Shoe_LLama\\SoftMoc_Mens.csv')\n",
    "    \n",
    "\n"
   ]
  },
  {
   "cell_type": "code",
   "execution_count": 3,
   "metadata": {},
   "outputs": [],
   "source": [
    "data = pd.read_csv('C:/Users/msi1/OneDrive/Desktop/Mens_Shoes_SoftMoc.csv')\n",
    "get_clean(data)"
   ]
  },
  {
   "cell_type": "code",
   "execution_count": 4,
   "metadata": {},
   "outputs": [
    {
     "data": {
      "text/html": [
       "<div>\n",
       "<style scoped>\n",
       "    .dataframe tbody tr th:only-of-type {\n",
       "        vertical-align: middle;\n",
       "    }\n",
       "\n",
       "    .dataframe tbody tr th {\n",
       "        vertical-align: top;\n",
       "    }\n",
       "\n",
       "    .dataframe thead th {\n",
       "        text-align: right;\n",
       "    }\n",
       "</style>\n",
       "<table border=\"1\" class=\"dataframe\">\n",
       "  <thead>\n",
       "    <tr style=\"text-align: right;\">\n",
       "      <th></th>\n",
       "      <th>Unnamed: 0</th>\n",
       "      <th>Product_Brand</th>\n",
       "      <th>Shoe_Name</th>\n",
       "      <th>Item_ID</th>\n",
       "      <th>Price</th>\n",
       "      <th>Product_Details</th>\n",
       "      <th>Link</th>\n",
       "    </tr>\n",
       "  </thead>\n",
       "  <tbody>\n",
       "    <tr>\n",
       "      <th>0</th>\n",
       "      <td>0</td>\n",
       "      <td>CONVERSE</td>\n",
       "      <td>Converse                                                        CTAS High Street Mid                            Men</td>\n",
       "      <td>a11651c</td>\n",
       "      <td>84.99</td>\n",
       "      <td>Get Just enough edge with the modern updates the Chuch Taylor All Star High Street  sneaker from Converse that gives a little more attitude. The iconic mid-top design gets an added dose of texture with split-top canavs  and leather upper, plus a padded collar and tongue. Inner elastic tongue for secure fit. The cushioned OrthoLite insole takes comfort to the next level for wherever the day takes you.                          Features &amp; Benefits                         Durable canvas upper and leather upper for comfortPadded tongue &amp; collarLace-up closure with metal eyeletsSignature Chuck Taylor All Star rubber toeRubber outsole with custom Diamond tread pattern for traction                               Design Elements                         Rubber SoleContoured FootbedCanvas UpperLaceLeather &amp; SyntheticPadded Collar</td>\n",
       "      <td>https://www.softmoc.com/ca/i/converse/mens/sneakers-and-athletic/mns-chuck-taylor-all-star-high-street-mid-sneaker--vintage-cargotrufflewhite/a11651c</td>\n",
       "    </tr>\n",
       "    <tr>\n",
       "      <th>1</th>\n",
       "      <td>1</td>\n",
       "      <td>SALOMON</td>\n",
       "      <td>Salomon                                                        Sense Ride 5 GTX                            Men</td>\n",
       "      <td>l47312800</td>\n",
       "      <td>189.99</td>\n",
       "      <td>The Sense Ride 5 GTX is a versatile waterproof trail shoe from Salomon. The Sense Ride 5 GORE-TEX is in its element on short, fast trail runs or ultra distances. A super comfortable overachiever that adapts to a variety of terrains, with a balanced midsole for cushioning, response and an engineered mesh upper with Sensifit for just the right amount of comfortable hold.                          Features &amp; Benefits                         Lightweight, flexible engineered mesh upper with Sensifit for just the right amount of comfortable holdEnergy foam midsole gives just the right balance of plush cushioning and adapted responseGORE-TEX features an innovative ePE membraneRubber outsole with lugs are 3.5 millimeters in depth                               Design Elements                         WaterproofRubber SoleMesh</td>\n",
       "      <td>https://www.softmoc.com/ca/i/salomon/mens/sneakers-and-athletic/mns-sense-ride-5-gtx-waterproof-performance-sneaker--flintblackgrey/l47312800</td>\n",
       "    </tr>\n",
       "  </tbody>\n",
       "</table>\n",
       "</div>"
      ],
      "text/plain": [
       "   Unnamed: 0 Product_Brand  \\\n",
       "0           0      CONVERSE   \n",
       "1           1       SALOMON   \n",
       "\n",
       "                                                                                                                                                                                                                             Shoe_Name  \\\n",
       "0                                                              Converse                                                        CTAS High Street Mid                            Men                                                       \n",
       "1                                                                   Salomon                                                        Sense Ride 5 GTX                            Men                                                       \n",
       "\n",
       "      Item_ID   Price  \\\n",
       "0     a11651c   84.99   \n",
       "1   l47312800  189.99   \n",
       "\n",
       "                                                                                                                                                                                                                                                                                                                                                                                                                                                                                                                                                                                                                                                                                                                                                                                                                                                 Product_Details  \\\n",
       "0  Get Just enough edge with the modern updates the Chuch Taylor All Star High Street  sneaker from Converse that gives a little more attitude. The iconic mid-top design gets an added dose of texture with split-top canavs  and leather upper, plus a padded collar and tongue. Inner elastic tongue for secure fit. The cushioned OrthoLite insole takes comfort to the next level for wherever the day takes you.                          Features & Benefits                         Durable canvas upper and leather upper for comfortPadded tongue & collarLace-up closure with metal eyeletsSignature Chuck Taylor All Star rubber toeRubber outsole with custom Diamond tread pattern for traction                               Design Elements                         Rubber SoleContoured FootbedCanvas UpperLaceLeather & SyntheticPadded Collar   \n",
       "1     The Sense Ride 5 GTX is a versatile waterproof trail shoe from Salomon. The Sense Ride 5 GORE-TEX is in its element on short, fast trail runs or ultra distances. A super comfortable overachiever that adapts to a variety of terrains, with a balanced midsole for cushioning, response and an engineered mesh upper with Sensifit for just the right amount of comfortable hold.                          Features & Benefits                         Lightweight, flexible engineered mesh upper with Sensifit for just the right amount of comfortable holdEnergy foam midsole gives just the right balance of plush cushioning and adapted responseGORE-TEX features an innovative ePE membraneRubber outsole with lugs are 3.5 millimeters in depth                               Design Elements                         WaterproofRubber SoleMesh   \n",
       "\n",
       "                                                                                                                                                    Link  \n",
       "0  https://www.softmoc.com/ca/i/converse/mens/sneakers-and-athletic/mns-chuck-taylor-all-star-high-street-mid-sneaker--vintage-cargotrufflewhite/a11651c  \n",
       "1          https://www.softmoc.com/ca/i/salomon/mens/sneakers-and-athletic/mns-sense-ride-5-gtx-waterproof-performance-sneaker--flintblackgrey/l47312800  "
      ]
     },
     "execution_count": 4,
     "metadata": {},
     "output_type": "execute_result"
    }
   ],
   "source": [
    "data2 = pd.read_csv(r'C:\\Users\\msi1\\Videos\\LLama_Project\\Shoe_LLama\\SoftMoc_Mens.csv')\n",
    "data2.head(2)"
   ]
  },
  {
   "cell_type": "code",
   "execution_count": 5,
   "metadata": {},
   "outputs": [
    {
     "data": {
      "text/plain": [
       "5033"
      ]
     },
     "execution_count": 5,
     "metadata": {},
     "output_type": "execute_result"
    }
   ],
   "source": [
    "data2.size"
   ]
  },
  {
   "cell_type": "code",
   "execution_count": null,
   "metadata": {},
   "outputs": [],
   "source": []
  }
 ],
 "metadata": {
  "kernelspec": {
   "display_name": "venv",
   "language": "python",
   "name": "python3"
  },
  "language_info": {
   "codemirror_mode": {
    "name": "ipython",
    "version": 3
   },
   "file_extension": ".py",
   "mimetype": "text/x-python",
   "name": "python",
   "nbconvert_exporter": "python",
   "pygments_lexer": "ipython3",
   "version": "3.10.8"
  }
 },
 "nbformat": 4,
 "nbformat_minor": 2
}
