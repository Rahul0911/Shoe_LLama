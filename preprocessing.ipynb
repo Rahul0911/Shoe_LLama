{
 "cells": [
  {
   "cell_type": "code",
   "execution_count": 2,
   "metadata": {},
   "outputs": [],
   "source": [
    "import numpy as np \n",
    "import pandas as pd\n",
    "pd.set_option('max_colwidth', None)"
   ]
  },
  {
   "cell_type": "code",
   "execution_count": 3,
   "metadata": {},
   "outputs": [],
   "source": [
    "data1 = pd.read_csv('C:/Users/msi1/Videos/LLama_Project/Shoe_LLama/shoescrapper/shoescrapper/armour_shoes_boys.csv')\n",
    "data2 = pd.read_csv('C:/Users/msi1/Videos/LLama_Project/Shoe_LLama/shoescrapper/shoescrapper/armour_shoes_girls.csv')\n",
    "data3 = pd.read_csv('C:/Users/msi1/Videos/LLama_Project/Shoe_LLama/shoescrapper/shoescrapper/armour_shoes_men.csv')\n",
    "data4 = pd.read_csv('C:/Users/msi1/Videos/LLama_Project/Shoe_LLama/shoescrapper/shoescrapper/armour_shoes_women.csv')"
   ]
  },
  {
   "cell_type": "code",
   "execution_count": 4,
   "metadata": {},
   "outputs": [
    {
     "data": {
      "text/html": [
       "<div>\n",
       "<style scoped>\n",
       "    .dataframe tbody tr th:only-of-type {\n",
       "        vertical-align: middle;\n",
       "    }\n",
       "\n",
       "    .dataframe tbody tr th {\n",
       "        vertical-align: top;\n",
       "    }\n",
       "\n",
       "    .dataframe thead th {\n",
       "        text-align: right;\n",
       "    }\n",
       "</style>\n",
       "<table border=\"1\" class=\"dataframe\">\n",
       "  <thead>\n",
       "    <tr style=\"text-align: right;\">\n",
       "      <th></th>\n",
       "      <th>name</th>\n",
       "      <th>price</th>\n",
       "      <th>description</th>\n",
       "      <th>link</th>\n",
       "    </tr>\n",
       "  </thead>\n",
       "  <tbody>\n",
       "    <tr>\n",
       "      <th>0</th>\n",
       "      <td>Boys' Grade School UA Surge 4 Running Shoes</td>\n",
       "      <td>63.97 - 70</td>\n",
       "      <td>These shoes are going to feel cushioned and comfortable, but also light and breathable. Why? Because when you never slow down, that's what you need., Lightweight, breathable mesh upper with synthetic overlays for added durability &amp; support,TPU heel overlay for added durability &amp; support,Enhanced cushioning around ankle collar for superior comfort,Full-length EVA sockliner for added comfort &amp; a custom fit,Cushioned EVA midsole delivers a lightweight &amp; responsive ride,Durable outsole with slightly raised rubber knobs for added grip &amp; traction,Regular,Style #: 3027103,Lace type: Standard tie,Imported</td>\n",
       "      <td>https://www.underarmour.ca/en-ca/p/running_and_training/boys_grade_school_ua_surge_4_running_shoes/3027103.html?dwvar_3027103_color=600</td>\n",
       "    </tr>\n",
       "    <tr>\n",
       "      <th>1</th>\n",
       "      <td>Pre-School UA Jet '23 Basketball Shoes</td>\n",
       "      <td>54.97 - 70</td>\n",
       "      <td>Locked in and ready for takeoff, the UA Jet is all about performance. The soft cushioning you need, while the durable upper looks great on and off the court., Mixed-material upper for enhanced durability, breathability &amp; support where you need it,Plush foam sockliner for increased underfoot comfort,Cushioned EVA midsole delivers a lightweight &amp; responsive feel underfoot​,Durable rubber outsole uses anatomical traction pattern for superior grip &amp; flexibility,Regular,Style #: 3026636,Lace type: Standard tie,Imported,Machine wash warm with similar colors,Use only non-chlorine bleach when needed,Tumble dry medium,Do not iron</td>\n",
       "      <td>https://www.underarmour.ca/en-ca/p/basketball/pre-school_ua_jet_23_basketball_shoes/3026636.html?dwvar_3026636_color=100</td>\n",
       "    </tr>\n",
       "    <tr>\n",
       "      <th>2</th>\n",
       "      <td>Boys' Grade School UA Scramjet 6 Running Shoes</td>\n",
       "      <td>90</td>\n",
       "      <td>These running shoes were inspired by jets—they're all about giving you thrust and propulsion when you run., Lightweight, breathable mesh upper,Plush sockliner maintains it's shape for all-day comfort,One-piece EVA midsole turns cushioned landings into explosive takeoffs,Strategically placed rubber pods beneath the heel &amp; forefoot for greater durability with less weight,Regular,Style #: 3027691,Lace type: Standard tie,Imported</td>\n",
       "      <td>https://www.underarmour.ca/en-ca/p/running_and_training/boys_grade_school_ua_scramjet_6_running_shoes/3027691.html?dwvar_3027691_color=001</td>\n",
       "    </tr>\n",
       "    <tr>\n",
       "      <th>3</th>\n",
       "      <td>Pre-School UA Jet '23 Basketball Shoes</td>\n",
       "      <td>54.97 - 70</td>\n",
       "      <td>Locked in and ready for takeoff, the UA Jet is all about performance. The soft cushioning you need, while the durable upper looks great on and off the court., Mixed-material upper for enhanced durability, breathability &amp; support where you need it,Plush foam sockliner for increased underfoot comfort,Cushioned EVA midsole delivers a lightweight &amp; responsive feel underfoot​,Durable rubber outsole uses anatomical traction pattern for superior grip &amp; flexibility,Regular,Style #: 3026636,Lace type: Standard tie,Imported,Machine wash warm with similar colors,Use only non-chlorine bleach when needed,Tumble dry medium,Do not iron</td>\n",
       "      <td>https://www.underarmour.ca/en-ca/p/basketball/pre-school_ua_jet_23_basketball_shoes/3026636.html?dwvar_3026636_color=400</td>\n",
       "    </tr>\n",
       "    <tr>\n",
       "      <th>4</th>\n",
       "      <td>Boys' Grade School UA Surge 4 Running Shoes</td>\n",
       "      <td>63.97 - 70</td>\n",
       "      <td>These shoes are going to feel cushioned and comfortable, but also light and breathable. Why? Because when you never slow down, that's what you need., Lightweight, breathable mesh upper with synthetic overlays for added durability &amp; support,TPU heel overlay for added durability &amp; support,Enhanced cushioning around ankle collar for superior comfort,Full-length EVA sockliner for added comfort &amp; a custom fit,Cushioned EVA midsole delivers a lightweight &amp; responsive ride,Durable outsole with slightly raised rubber knobs for added grip &amp; traction,Regular,Style #: 3027103,Lace type: Standard tie,Imported</td>\n",
       "      <td>https://www.underarmour.ca/en-ca/p/running_and_training/boys_grade_school_ua_surge_4_running_shoes/3027103.html?dwvar_3027103_color=004</td>\n",
       "    </tr>\n",
       "  </tbody>\n",
       "</table>\n",
       "</div>"
      ],
      "text/plain": [
       "                                             name       price  \\\n",
       "0     Boys' Grade School UA Surge 4 Running Shoes  63.97 - 70   \n",
       "1          Pre-School UA Jet '23 Basketball Shoes  54.97 - 70   \n",
       "2  Boys' Grade School UA Scramjet 6 Running Shoes          90   \n",
       "3          Pre-School UA Jet '23 Basketball Shoes  54.97 - 70   \n",
       "4     Boys' Grade School UA Surge 4 Running Shoes  63.97 - 70   \n",
       "\n",
       "                                                                                                                                                                                                                                                                                                                                                                                                                                                                                                                                                                                                                                            description  \\\n",
       "0                          These shoes are going to feel cushioned and comfortable, but also light and breathable. Why? Because when you never slow down, that's what you need., Lightweight, breathable mesh upper with synthetic overlays for added durability & support,TPU heel overlay for added durability & support,Enhanced cushioning around ankle collar for superior comfort,Full-length EVA sockliner for added comfort & a custom fit,Cushioned EVA midsole delivers a lightweight & responsive ride,Durable outsole with slightly raised rubber knobs for added grip & traction,Regular,Style #: 3027103,Lace type: Standard tie,Imported   \n",
       "1  Locked in and ready for takeoff, the UA Jet is all about performance. The soft cushioning you need, while the durable upper looks great on and off the court., Mixed-material upper for enhanced durability, breathability & support where you need it,Plush foam sockliner for increased underfoot comfort,Cushioned EVA midsole delivers a lightweight & responsive feel underfoot​,Durable rubber outsole uses anatomical traction pattern for superior grip & flexibility,Regular,Style #: 3026636,Lace type: Standard tie,Imported,Machine wash warm with similar colors,Use only non-chlorine bleach when needed,Tumble dry medium,Do not iron   \n",
       "2                                                                                                                                                                                                         These running shoes were inspired by jets—they're all about giving you thrust and propulsion when you run., Lightweight, breathable mesh upper,Plush sockliner maintains it's shape for all-day comfort,One-piece EVA midsole turns cushioned landings into explosive takeoffs,Strategically placed rubber pods beneath the heel & forefoot for greater durability with less weight,Regular,Style #: 3027691,Lace type: Standard tie,Imported   \n",
       "3  Locked in and ready for takeoff, the UA Jet is all about performance. The soft cushioning you need, while the durable upper looks great on and off the court., Mixed-material upper for enhanced durability, breathability & support where you need it,Plush foam sockliner for increased underfoot comfort,Cushioned EVA midsole delivers a lightweight & responsive feel underfoot​,Durable rubber outsole uses anatomical traction pattern for superior grip & flexibility,Regular,Style #: 3026636,Lace type: Standard tie,Imported,Machine wash warm with similar colors,Use only non-chlorine bleach when needed,Tumble dry medium,Do not iron   \n",
       "4                          These shoes are going to feel cushioned and comfortable, but also light and breathable. Why? Because when you never slow down, that's what you need., Lightweight, breathable mesh upper with synthetic overlays for added durability & support,TPU heel overlay for added durability & support,Enhanced cushioning around ankle collar for superior comfort,Full-length EVA sockliner for added comfort & a custom fit,Cushioned EVA midsole delivers a lightweight & responsive ride,Durable outsole with slightly raised rubber knobs for added grip & traction,Regular,Style #: 3027103,Lace type: Standard tie,Imported   \n",
       "\n",
       "                                                                                                                                         link  \n",
       "0     https://www.underarmour.ca/en-ca/p/running_and_training/boys_grade_school_ua_surge_4_running_shoes/3027103.html?dwvar_3027103_color=600  \n",
       "1                    https://www.underarmour.ca/en-ca/p/basketball/pre-school_ua_jet_23_basketball_shoes/3026636.html?dwvar_3026636_color=100  \n",
       "2  https://www.underarmour.ca/en-ca/p/running_and_training/boys_grade_school_ua_scramjet_6_running_shoes/3027691.html?dwvar_3027691_color=001  \n",
       "3                    https://www.underarmour.ca/en-ca/p/basketball/pre-school_ua_jet_23_basketball_shoes/3026636.html?dwvar_3026636_color=400  \n",
       "4     https://www.underarmour.ca/en-ca/p/running_and_training/boys_grade_school_ua_surge_4_running_shoes/3027103.html?dwvar_3027103_color=004  "
      ]
     },
     "execution_count": 4,
     "metadata": {},
     "output_type": "execute_result"
    }
   ],
   "source": [
    "data1.head()"
   ]
  },
  {
   "cell_type": "code",
   "execution_count": 12,
   "metadata": {},
   "outputs": [
    {
     "data": {
      "text/plain": [
       "0         Boys' Grade School UA Surge 4 Running Shoes\n",
       "1              Pre-School UA Jet '23 Basketball Shoes\n",
       "2      Boys' Grade School UA Scramjet 6 Running Shoes\n",
       "3              Pre-School UA Jet '23 Basketball Shoes\n",
       "4         Boys' Grade School UA Surge 4 Running Shoes\n",
       "                            ...                      \n",
       "125            Pre-School UA Jet '23 Basketball Shoes\n",
       "126          Boys' Infant UA Surge 4 AC Running Shoes\n",
       "127            Pre-School UA Jet '23 Basketball Shoes\n",
       "128            Pre-School UA Jet '23 Basketball Shoes\n",
       "129            Pre-School UA Jet '23 Basketball Shoes\n",
       "Name: name, Length: 130, dtype: object"
      ]
     },
     "execution_count": 12,
     "metadata": {},
     "output_type": "execute_result"
    }
   ],
   "source": [
    "data1['name']"
   ]
  },
  {
   "cell_type": "code",
   "execution_count": 18,
   "metadata": {},
   "outputs": [],
   "source": [
    "data1 = data1.drop_duplicates(subset=['name'], keep='first')\n"
   ]
  },
  {
   "cell_type": "code",
   "execution_count": 21,
   "metadata": {},
   "outputs": [],
   "source": [
    "def remove_duplicates(data):\n",
    "    \n",
    "    data = data.drop_duplicates(subset=['name'], keep='first')\n",
    "    \n",
    "    return data"
   ]
  },
  {
   "cell_type": "code",
   "execution_count": 22,
   "metadata": {},
   "outputs": [],
   "source": [
    "data1 = remove_duplicates(data1)\n",
    "data2 = remove_duplicates(data2)\n",
    "data3 = remove_duplicates(data3)\n",
    "data4 = remove_duplicates(data4)\n"
   ]
  },
  {
   "cell_type": "code",
   "execution_count": 32,
   "metadata": {},
   "outputs": [
    {
     "name": "stdout",
     "output_type": "stream",
     "text": [
      "46\n",
      "33\n",
      "139\n",
      "85\n"
     ]
    }
   ],
   "source": [
    "all_data = [data1, data2, data3, data4]\n",
    "\n",
    "for i in all_data:\n",
    "    print(len(i))"
   ]
  },
  {
   "cell_type": "code",
   "execution_count": 34,
   "metadata": {},
   "outputs": [
    {
     "data": {
      "text/html": [
       "<div>\n",
       "<style scoped>\n",
       "    .dataframe tbody tr th:only-of-type {\n",
       "        vertical-align: middle;\n",
       "    }\n",
       "\n",
       "    .dataframe tbody tr th {\n",
       "        vertical-align: top;\n",
       "    }\n",
       "\n",
       "    .dataframe thead th {\n",
       "        text-align: right;\n",
       "    }\n",
       "</style>\n",
       "<table border=\"1\" class=\"dataframe\">\n",
       "  <thead>\n",
       "    <tr style=\"text-align: right;\">\n",
       "      <th></th>\n",
       "      <th>name</th>\n",
       "      <th>price</th>\n",
       "      <th>description</th>\n",
       "      <th>link</th>\n",
       "    </tr>\n",
       "  </thead>\n",
       "  <tbody>\n",
       "    <tr>\n",
       "      <th>0</th>\n",
       "      <td>Boys' Grade School UA Surge 4 Running Shoes</td>\n",
       "      <td>63.97 - 70</td>\n",
       "      <td>These shoes are going to feel cushioned and comfortable, but also light and breathable. Why? Because when you never slow down, that's what you need., Lightweight, breathable mesh upper with synthetic overlays for added durability &amp; support,TPU heel overlay for added durability &amp; support,Enhanced cushioning around ankle collar for superior comfort,Full-length EVA sockliner for added comfort &amp; a custom fit,Cushioned EVA midsole delivers a lightweight &amp; responsive ride,Durable outsole with slightly raised rubber knobs for added grip &amp; traction,Regular,Style #: 3027103,Lace type: Standard tie,Imported</td>\n",
       "      <td>https://www.underarmour.ca/en-ca/p/running_and_training/boys_grade_school_ua_surge_4_running_shoes/3027103.html?dwvar_3027103_color=600</td>\n",
       "    </tr>\n",
       "    <tr>\n",
       "      <th>1</th>\n",
       "      <td>Pre-School UA Jet '23 Basketball Shoes</td>\n",
       "      <td>54.97 - 70</td>\n",
       "      <td>Locked in and ready for takeoff, the UA Jet is all about performance. The soft cushioning you need, while the durable upper looks great on and off the court., Mixed-material upper for enhanced durability, breathability &amp; support where you need it,Plush foam sockliner for increased underfoot comfort,Cushioned EVA midsole delivers a lightweight &amp; responsive feel underfoot​,Durable rubber outsole uses anatomical traction pattern for superior grip &amp; flexibility,Regular,Style #: 3026636,Lace type: Standard tie,Imported,Machine wash warm with similar colors,Use only non-chlorine bleach when needed,Tumble dry medium,Do not iron</td>\n",
       "      <td>https://www.underarmour.ca/en-ca/p/basketball/pre-school_ua_jet_23_basketball_shoes/3026636.html?dwvar_3026636_color=100</td>\n",
       "    </tr>\n",
       "    <tr>\n",
       "      <th>2</th>\n",
       "      <td>Boys' Grade School UA Scramjet 6 Running Shoes</td>\n",
       "      <td>90</td>\n",
       "      <td>These running shoes were inspired by jets—they're all about giving you thrust and propulsion when you run., Lightweight, breathable mesh upper,Plush sockliner maintains it's shape for all-day comfort,One-piece EVA midsole turns cushioned landings into explosive takeoffs,Strategically placed rubber pods beneath the heel &amp; forefoot for greater durability with less weight,Regular,Style #: 3027691,Lace type: Standard tie,Imported</td>\n",
       "      <td>https://www.underarmour.ca/en-ca/p/running_and_training/boys_grade_school_ua_scramjet_6_running_shoes/3027691.html?dwvar_3027691_color=001</td>\n",
       "    </tr>\n",
       "  </tbody>\n",
       "</table>\n",
       "</div>"
      ],
      "text/plain": [
       "                                             name       price  \\\n",
       "0     Boys' Grade School UA Surge 4 Running Shoes  63.97 - 70   \n",
       "1          Pre-School UA Jet '23 Basketball Shoes  54.97 - 70   \n",
       "2  Boys' Grade School UA Scramjet 6 Running Shoes          90   \n",
       "\n",
       "                                                                                                                                                                                                                                                                                                                                                                                                                                                                                                                                                                                                                                            description  \\\n",
       "0                          These shoes are going to feel cushioned and comfortable, but also light and breathable. Why? Because when you never slow down, that's what you need., Lightweight, breathable mesh upper with synthetic overlays for added durability & support,TPU heel overlay for added durability & support,Enhanced cushioning around ankle collar for superior comfort,Full-length EVA sockliner for added comfort & a custom fit,Cushioned EVA midsole delivers a lightweight & responsive ride,Durable outsole with slightly raised rubber knobs for added grip & traction,Regular,Style #: 3027103,Lace type: Standard tie,Imported   \n",
       "1  Locked in and ready for takeoff, the UA Jet is all about performance. The soft cushioning you need, while the durable upper looks great on and off the court., Mixed-material upper for enhanced durability, breathability & support where you need it,Plush foam sockliner for increased underfoot comfort,Cushioned EVA midsole delivers a lightweight & responsive feel underfoot​,Durable rubber outsole uses anatomical traction pattern for superior grip & flexibility,Regular,Style #: 3026636,Lace type: Standard tie,Imported,Machine wash warm with similar colors,Use only non-chlorine bleach when needed,Tumble dry medium,Do not iron   \n",
       "2                                                                                                                                                                                                         These running shoes were inspired by jets—they're all about giving you thrust and propulsion when you run., Lightweight, breathable mesh upper,Plush sockliner maintains it's shape for all-day comfort,One-piece EVA midsole turns cushioned landings into explosive takeoffs,Strategically placed rubber pods beneath the heel & forefoot for greater durability with less weight,Regular,Style #: 3027691,Lace type: Standard tie,Imported   \n",
       "\n",
       "                                                                                                                                         link  \n",
       "0     https://www.underarmour.ca/en-ca/p/running_and_training/boys_grade_school_ua_surge_4_running_shoes/3027103.html?dwvar_3027103_color=600  \n",
       "1                    https://www.underarmour.ca/en-ca/p/basketball/pre-school_ua_jet_23_basketball_shoes/3026636.html?dwvar_3026636_color=100  \n",
       "2  https://www.underarmour.ca/en-ca/p/running_and_training/boys_grade_school_ua_scramjet_6_running_shoes/3027691.html?dwvar_3027691_color=001  "
      ]
     },
     "execution_count": 34,
     "metadata": {},
     "output_type": "execute_result"
    }
   ],
   "source": [
    "data1.head(3)"
   ]
  },
  {
   "cell_type": "code",
   "execution_count": null,
   "metadata": {},
   "outputs": [],
   "source": [
    "data_boys = [{\n",
    "    \"instruction\": \"Tell me about the product\",\n",
    "    \"input\": \"Boys' Grade School UA Surge 4 Running Shoes\",\n",
    "    \"output\": \"The Boys' Grade School UA Surge 4 Running Shoes are cushioned, comfortable, lightweight, and breathable, designed for active boys who never slow down.\"\n",
    "}, \n",
    "{\n",
    "    \"instruction\": \"What is the price of the Boys' Grade School UA Surge 4 Running Shoes?\",\n",
    "    \"input\": \"Boys' Grade School UA Surge 4 Running Shoes\",\n",
    "    \"output\": \"The price range for the Boys' Grade School UA Surge 4 Running Shoes is between $63 to $70.\"\n",
    "  },\n",
    "  {\n",
    "    \"instruction\": \"Where can I buy the Boys' Grade School UA Surge 4 Running Shoes?\",\n",
    "    \"input\": \"Boys' Grade School UA Surge 4 Running Shoes\",\n",
    "    \"output\": \"You can buy the Boys' Grade School UA Surge 4 Running Shoes at the following link: https://www.underarmour.ca/en-ca/p/running_and_training/boys_grade_school_ua_surge_4_running_shoes/3027103.html?dwvar_3027103_color=600\"\n",
    "  },\n",
    "  {\n",
    "      \"instruction\": \"Are the boys Surge 4 Running shoes durable ?\",\n",
    "      \"input\": \"Boys' Grade School UA Surge 4 Running Shoes\",\n",
    "      \"output\": \"These shoes comes with mesh upper with synthetic overlays as well as TPU heel overlay for added durability. The outsole comes with slightly raised rubber knobs for added grip, traction and durability \"\n",
    "  },\n",
    "  {\n",
    "    \"instruction\": \"What are the key features of the Boys' Grade School UA Surge 4 Running Shoes?\",\n",
    "    \"input\": \"Boys' Grade School UA Surge 4 Running Shoes\",\n",
    "    \"output\": [\n",
    "      \"Lightweight, breathable mesh upper with synthetic overlays for added durability & support\",\n",
    "      \"TPU heel overlay for added durability & support\",\n",
    "      \"Enhanced cushioning around ankle collar for superior comfort\",\n",
    "      \"Full-length EVA sockliner for added comfort & a custom fit\",\n",
    "      \"Cushioned EVA midsole delivers a lightweight & responsive ride\",\n",
    "      \"Durable outsole with slightly raised rubber knobs for added grip & traction\"\n",
    "    ]\n",
    "  },\n",
    "  {\n",
    "    \"instruction\": \"Describe the product for me.\",\n",
    "    \"input\": \"Pre-School UA Jet '23 Basketball Shoes\",\n",
    "    \"output\": \"The Pre-School UA Jet '23 Basketball Shoes are built for performance, offering soft cushioning and a durable upper that looks great both on and off the court.\"\n",
    "  },\n",
    "  {\n",
    "    \"instruction\": \"What is the price of the Pre-School UA Jet '23 Basketball Shoes?\",\n",
    "    \"input\": \"Pre-School UA Jet '23 Basketball Shoes\",\n",
    "    \"output\": \"The price of the Pre-School UA Jet '23 Basketball Shoes ranges from $54.97 to $70.\"\n",
    "  },\n",
    "  {\n",
    "    \"instruction\": \"Where can I buy the Pre-School UA Jet '23 Basketball Shoes?\",\n",
    "    \"input\": \"Pre-School UA Jet '23 Basketball Shoes\",\n",
    "    \"output\": \"You can buy the Pre-School UA Jet '23 Basketball Shoes at the following link: https://www.underarmour.ca/en-ca/p/basketball/pre-school_ua_jet_23_basketball_shoes/3026636.html?dwvar_3026636_color=100\"\n",
    "  },\n",
    "  {\n",
    "    \"instruction\": \"What are the key features of the Pre-School UA Jet '23 Basketball Shoes?\",\n",
    "    \"input\": \"Pre-School UA Jet '23 Basketball Shoes\",\n",
    "    \"output\": [\n",
    "      \"Mixed-material upper for enhanced durability, breathability & support where you need it\",\n",
    "      \"Plush foam sockliner for increased underfoot comfort\",\n",
    "      \"Cushioned EVA midsole delivers a lightweight & responsive feel underfoot\",\n",
    "      \"Durable rubber outsole uses anatomical traction pattern for superior grip & flexibility\"\n",
    "    ]\n",
    "  },\n",
    "  {\n",
    "    \"instruction\": \"Describe the product for a customer.\",\n",
    "    \"input\": \"Boys' Grade School UA Scramjet 6 Running Shoes\",\n",
    "    \"output\": \"The Boys' Grade School UA Scramjet 6 Running Shoes are inspired by jets, designed to provide thrust and propulsion, helping you run faster and more efficiently.\"\n",
    "  },\n",
    "  {\n",
    "    \"instruction\": \"What is the price of the Boys' Grade School UA Scramjet 6 Running Shoes?\",\n",
    "    \"input\": \"Boys' Grade School UA Scramjet 6 Running Shoes\",\n",
    "    \"output\": \"The price of the Boys' Grade School UA Scramjet 6 Running Shoes is $90.\"\n",
    "  },\n",
    "  {\n",
    "    \"instruction\": \"Where can I buy the Boys' Grade School UA Scramjet 6 Running Shoes?\",\n",
    "    \"input\": \"Boys' Grade School UA Scramjet 6 Running Shoes\",\n",
    "    \"output\": \"You can buy the Boys' Grade School UA Scramjet 6 Running Shoes on the Under Armour website at this link: https://www.underarmour.ca/en-ca/p/running_and_training/boys_grade_school_ua_scramjet_6_running_shoes/3027691.html?dwvar_3027691_color=001\"\n",
    "  },\n",
    "  {\n",
    "    \"instruction\": \"What are the key features of the Boys' Grade School UA Scramjet 6 Running Shoes?\",\n",
    "    \"input\": \"Boys' Grade School UA Scramjet 6 Running Shoes\",\n",
    "    \"output\": [\n",
    "      \"Lightweight, breathable mesh upper\",\n",
    "      \"Plush sockliner maintains its shape for all-day comfort\",\n",
    "      \"One-piece EVA midsole turns cushioned landings into explosive takeoffs\",\n",
    "      \"Strategically placed rubber pods beneath the heel & forefoot for greater durability with less weight\"\n",
    "    ]\n",
    "  },\n",
    "  {\n",
    "    \"instruction\": \"Compare the Boys' Grade School UA Scramjet 6 Running Shoes and the Boys' Grade School UA Surge 4 Running Shoes.\",\n",
    "    \"input\": {\n",
    "      \"shoe_1\": \"Boys' Grade School UA Scramjet 6 Running Shoes\",\n",
    "      \"shoe_2\": \"Boys' Grade School UA Surge 4 Running Shoes\"\n",
    "    },\n",
    "    \"output\": \"The Boys' Grade School UA Scramjet 6 Running Shoes are designed for propulsion, with a one-piece EVA midsole for explosive takeoffs, and strategically placed rubber pods for added durability and lightweight performance. In contrast, the Boys' Grade School UA Surge 4 Running Shoes are focused on comfort and cushioning, featuring enhanced ankle collar cushioning and a cushioned EVA midsole that provides a responsive and lightweight ride. The Scramjet 6 emphasizes performance and speed, while the Surge 4 prioritizes comfort and breathability.\"\n",
    "  },\n",
    "  [\n",
    "  {\n",
    "    \"instruction\": \"Compare the Boys' Grade School UA Scramjet 6 Running Shoes and the Pre-School UA Jet '23 Basketball Shoes.\",\n",
    "    \"input\": {\n",
    "      \"shoe_1\": \"Boys' Grade School UA Scramjet 6 Running Shoes\",\n",
    "      \"shoe_2\": \"Pre-School UA Jet '23 Basketball Shoes\"\n",
    "    },\n",
    "    \"output\": \"The Boys' Grade School UA Scramjet 6 Running Shoes are designed with a focus on running performance, featuring a lightweight, breathable mesh upper, a one-piece EVA midsole for explosive takeoffs, and strategically placed rubber pods for greater durability with less weight. In contrast, the Pre-School UA Jet '23 Basketball Shoes are tailored for basketball, providing enhanced durability and support with a mixed-material upper, plush foam sockliner for comfort, and a durable rubber outsole designed for grip and flexibility on the court. While the Scramjet 6 is performance-oriented for running with propulsion features, the Jet '23 is built for basketball with an emphasis on support and durability.\"\n",
    "  }\n",
    "]\n",
    "\n",
    "  ]"
   ]
  },
  {
   "cell_type": "code",
   "execution_count": null,
   "metadata": {},
   "outputs": [],
   "source": []
  }
 ],
 "metadata": {
  "kernelspec": {
   "display_name": "venv",
   "language": "python",
   "name": "python3"
  },
  "language_info": {
   "codemirror_mode": {
    "name": "ipython",
    "version": 3
   },
   "file_extension": ".py",
   "mimetype": "text/x-python",
   "name": "python",
   "nbconvert_exporter": "python",
   "pygments_lexer": "ipython3",
   "version": "3.10.8"
  }
 },
 "nbformat": 4,
 "nbformat_minor": 2
}
