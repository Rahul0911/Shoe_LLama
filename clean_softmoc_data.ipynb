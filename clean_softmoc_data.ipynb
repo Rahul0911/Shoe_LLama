{
 "cells": [
  {
   "cell_type": "code",
   "execution_count": 1,
   "metadata": {},
   "outputs": [],
   "source": [
    "import pandas as pd \n",
    "pd.set_option('max_colwidth', None)\n",
    "import re"
   ]
  },
  {
   "cell_type": "code",
   "execution_count": 2,
   "metadata": {},
   "outputs": [],
   "source": [
    "def get_clean(data):\n",
    "    data = data.rename(columns={'productbrand': 'Product_Brand' ,'griditemdetails_URL1': 'Link', 'productgender': 'Product_Gender'})\n",
    "\n",
    "    data['Shoe_Name'] = data['Shoe_Name'].str.replace(r'\\n', '', regex=True)\n",
    "    data['Just_Price'] = data['Price'].str.extract(r'(\\d+\\.\\d+)', expand=False).astype(float)\n",
    "\n",
    "    data[\"Product_Details\"] = data[\"Product_Details\"].astype(str)\n",
    "    data[\"Product_Description\"] = data[\"Product_Details\"].apply( lambda x: re.sub(r'\\n.*?\\n', '', x, count=1).replace('\\n', ' ').strip())\n",
    "\n",
    "    data = data.drop(columns= ['Name', 'Price', 'Product_Details'])\n",
    "\n",
    "    data['Item_ID'] = data['Item_ID'].str.replace(r'Item ID:', '', regex=True)\n",
    "    data = data.iloc[:, [0, 2, 3, 4, 5, 1]]\n",
    "\n",
    "    data = data.rename(columns={'Just_Price': 'Price', 'Product_Description': 'Product_Details'})\n",
    "    data = data.drop_duplicates(subset=['Shoe_Name'], keep='first')\n",
    "\n",
    "    data.to_csv(r'C:\\Users\\msi1\\Videos\\LLama_Project\\Shoe_LLama\\SoftMoc_Kids.csv')\n",
    "    "
   ]
  },
  {
   "cell_type": "code",
   "execution_count": 3,
   "metadata": {},
   "outputs": [],
   "source": [
    "data = pd.read_csv(r\"C:\\Users\\msi1\\OneDrive\\Desktop\\Kids_Shoes_SoftMoc.csv\")\n",
    "get_clean(data)"
   ]
  },
  {
   "cell_type": "code",
   "execution_count": 6,
   "metadata": {},
   "outputs": [
    {
     "data": {
      "text/html": [
       "<div>\n",
       "<style scoped>\n",
       "    .dataframe tbody tr th:only-of-type {\n",
       "        vertical-align: middle;\n",
       "    }\n",
       "\n",
       "    .dataframe tbody tr th {\n",
       "        vertical-align: top;\n",
       "    }\n",
       "\n",
       "    .dataframe thead th {\n",
       "        text-align: right;\n",
       "    }\n",
       "</style>\n",
       "<table border=\"1\" class=\"dataframe\">\n",
       "  <thead>\n",
       "    <tr style=\"text-align: right;\">\n",
       "      <th></th>\n",
       "      <th>Unnamed: 0</th>\n",
       "      <th>Product_Brand</th>\n",
       "      <th>Product_Gender</th>\n",
       "      <th>Shoe_Name</th>\n",
       "      <th>Item_ID</th>\n",
       "      <th>Price</th>\n",
       "      <th>Link</th>\n",
       "    </tr>\n",
       "  </thead>\n",
       "  <tbody>\n",
       "    <tr>\n",
       "      <th>0</th>\n",
       "      <td>0</td>\n",
       "      <td>CONVERSE</td>\n",
       "      <td>Baby and Toddlers</td>\n",
       "      <td>Converse                                                        Chuck Taylor All Star Sherpa Bear Easy-On                            Baby and Toddlers</td>\n",
       "      <td>a10040c</td>\n",
       "      <td>49.99</td>\n",
       "      <td>https://www.softmoc.com/ca/i/converse/baby-and-toddlers/sneakers-and-athletic/infs-chuck-taylor-all-star-sherpa-bear-easy--on-sneaker--warm-quarryegretwarm-quarry/a10040c</td>\n",
       "    </tr>\n",
       "    <tr>\n",
       "      <th>1</th>\n",
       "      <td>2</td>\n",
       "      <td>CONVERSE</td>\n",
       "      <td>Unisex</td>\n",
       "      <td>Converse                                                        Chuck Taylor All Star Eva Lift                            Unisex</td>\n",
       "      <td>a0929ic</td>\n",
       "      <td>64.99</td>\n",
       "      <td>https://www.softmoc.com/ca/i/converse/unisex/sneakers-and-athletic/kds-chuck-taylor-all-star-eva-lift-hi-top-platform-sneaker--green-envywhitenatural-ivory/a0929ic</td>\n",
       "    </tr>\n",
       "  </tbody>\n",
       "</table>\n",
       "</div>"
      ],
      "text/plain": [
       "   Unnamed: 0 Product_Brand     Product_Gender  \\\n",
       "0           0      CONVERSE  Baby and Toddlers   \n",
       "1           2      CONVERSE             Unisex   \n",
       "\n",
       "                                                                                                                                                                                                                                                                Shoe_Name  \\\n",
       "0                                                              Converse                                                        Chuck Taylor All Star Sherpa Bear Easy-On                            Baby and Toddlers                                                       \n",
       "1                                                                                    Converse                                                        Chuck Taylor All Star Eva Lift                            Unisex                                                       \n",
       "\n",
       "    Item_ID  Price  \\\n",
       "0   a10040c  49.99   \n",
       "1   a0929ic  64.99   \n",
       "\n",
       "                                                                                                                                                                         Link  \n",
       "0  https://www.softmoc.com/ca/i/converse/baby-and-toddlers/sneakers-and-athletic/infs-chuck-taylor-all-star-sherpa-bear-easy--on-sneaker--warm-quarryegretwarm-quarry/a10040c  \n",
       "1         https://www.softmoc.com/ca/i/converse/unisex/sneakers-and-athletic/kds-chuck-taylor-all-star-eva-lift-hi-top-platform-sneaker--green-envywhitenatural-ivory/a0929ic  "
      ]
     },
     "execution_count": 6,
     "metadata": {},
     "output_type": "execute_result"
    }
   ],
   "source": [
    "data2 = pd.read_csv(r'C:\\Users\\msi1\\Videos\\LLama_Project\\Shoe_LLama\\SoftMoc_Kids.csv')\n",
    "data2.head(2)"
   ]
  },
  {
   "cell_type": "code",
   "execution_count": 7,
   "metadata": {},
   "outputs": [
    {
     "data": {
      "text/plain": [
       "1197"
      ]
     },
     "execution_count": 7,
     "metadata": {},
     "output_type": "execute_result"
    }
   ],
   "source": [
    "data2.size"
   ]
  },
  {
   "cell_type": "code",
   "execution_count": null,
   "metadata": {},
   "outputs": [],
   "source": []
  }
 ],
 "metadata": {
  "kernelspec": {
   "display_name": "venv",
   "language": "python",
   "name": "python3"
  },
  "language_info": {
   "codemirror_mode": {
    "name": "ipython",
    "version": 3
   },
   "file_extension": ".py",
   "mimetype": "text/x-python",
   "name": "python",
   "nbconvert_exporter": "python",
   "pygments_lexer": "ipython3",
   "version": "3.10.8"
  }
 },
 "nbformat": 4,
 "nbformat_minor": 2
}
