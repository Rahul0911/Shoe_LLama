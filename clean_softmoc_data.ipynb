{
 "cells": [
  {
   "cell_type": "code",
   "execution_count": 1,
   "metadata": {},
   "outputs": [],
   "source": [
    "import pandas as pd \n",
    "pd.set_option('max_colwidth', None)\n",
    "import re"
   ]
  },
  {
   "cell_type": "code",
   "execution_count": 2,
   "metadata": {},
   "outputs": [],
   "source": [
    "def get_clean(data):\n",
    "    data = data.rename(columns={'productbrand': 'Product_Brand' ,'griditemdetails_URL1': 'Link'})\n",
    "\n",
    "    data['Shoe_Name'] = data['Shoe_Name'].str.replace(r'\\n', '', regex=True)\n",
    "    data['Just_Price'] = data['Price'].str.extract(r'(\\d+\\.\\d+)', expand=False).astype(float)\n",
    "\n",
    "    data[\"Product_Details\"] = data[\"Product_Details\"].astype(str)\n",
    "    data[\"Product_Description\"] = data[\"Product_Details\"].apply( lambda x: re.sub(r'\\n.*?\\n', '', x, count=1).replace('\\n', ' ').strip())\n",
    "\n",
    "    data = data.drop(columns= ['Name', 'Price', 'Product_Details'])\n",
    "\n",
    "    data['Item_ID'] = data['Item_ID'].str.replace(r'Item ID:', '', regex=True)\n",
    "    data = data.iloc[:, [0, 2, 3, 4, 5, 1]]\n",
    "\n",
    "    data = data.rename(columns={'Just_Price': 'Price', 'Product_Description': 'Product_Details'})\n",
    "    data = data.drop_duplicates(subset=['Shoe_Name'], keep='first')\n",
    "\n",
    "    data.to_csv(r'C:\\Users\\msi1\\Videos\\LLama_Project\\Shoe_LLama\\SoftMoc_Womens.csv')\n",
    "    \n",
    "\n"
   ]
  },
  {
   "cell_type": "code",
   "execution_count": 3,
   "metadata": {},
   "outputs": [],
   "source": [
    "data = pd.read_csv('C:/Users/msi1/OneDrive/Desktop/Womens_Shoes_SoftMoc.csv')\n",
    "get_clean(data)"
   ]
  },
  {
   "cell_type": "code",
   "execution_count": 4,
   "metadata": {},
   "outputs": [
    {
     "data": {
      "text/html": [
       "<div>\n",
       "<style scoped>\n",
       "    .dataframe tbody tr th:only-of-type {\n",
       "        vertical-align: middle;\n",
       "    }\n",
       "\n",
       "    .dataframe tbody tr th {\n",
       "        vertical-align: top;\n",
       "    }\n",
       "\n",
       "    .dataframe thead th {\n",
       "        text-align: right;\n",
       "    }\n",
       "</style>\n",
       "<table border=\"1\" class=\"dataframe\">\n",
       "  <thead>\n",
       "    <tr style=\"text-align: right;\">\n",
       "      <th></th>\n",
       "      <th>Unnamed: 0</th>\n",
       "      <th>Product_Brand</th>\n",
       "      <th>Shoe_Name</th>\n",
       "      <th>Item_ID</th>\n",
       "      <th>Price</th>\n",
       "      <th>Product_Details</th>\n",
       "      <th>Link</th>\n",
       "    </tr>\n",
       "  </thead>\n",
       "  <tbody>\n",
       "    <tr>\n",
       "      <th>0</th>\n",
       "      <td>0</td>\n",
       "      <td>FRYE</td>\n",
       "      <td>Frye                                                        Kate Pull On                            Women</td>\n",
       "      <td>fr40818-blac</td>\n",
       "      <td>627.99</td>\n",
       "      <td>Intricate woodstock stitching detail gives the Kate Pull On Riding Boot from Frye an artisanal flair that comes to life on Frye's signature leathers. The Kate Pull On has a softer silhouette with its rounded toe and paired with a cushioned footbed and rubber outsole, the versatile 2-inch block heel is easy to walk in, while providing a flattering lift to any look. Pair with above-the-knee skirts or with straight-leg denim for year-round wear.                          Features &amp; Benefits                         Leather upperRound toeCushioned footbedWoodstock stitching detailCircumference: 15 inchesShaft Height: 14 inchesRubber outsole2-inch block heel                               Design Elements                         LeatherRubber SoleContoured Footbed</td>\n",
       "      <td>https://www.softmoc.com/ca/i/frye/womens/boots/lds-kate-pull-on-leather-riding-boot--black/fr40818blac</td>\n",
       "    </tr>\n",
       "    <tr>\n",
       "      <th>1</th>\n",
       "      <td>1</td>\n",
       "      <td>FRYE</td>\n",
       "      <td>Frye                                                        Campus Chelsea                            Women</td>\n",
       "      <td>fr41451-bana</td>\n",
       "      <td>567.99</td>\n",
       "      <td>The Campus Chelsea  boot from Frye delivers the same iconic appeal in a versatile, ankle-high design. Featuring Goodwear welt construction, these boots exude an authentic, rustic charm with a chunky block heel that provides a cushioned base. Whether paired with your favorite flair jeans or a breezy boho maxi dress, embrace the best of both worlds with the Campus Chelsea - effortless style and all-day wearability.                          Features &amp; Benefits                         Leather upperGood year welt constructionStitching detailsHeel pull loopRound toe silhouetteShaft Height: 10 inchesHeel Height: 1 3/4 in                               Design Elements                         LeatherWelt</td>\n",
       "      <td>https://www.softmoc.com/ca/i/frye/womens/boots/lds-campus-chelsea-leather-boot--banana/fr41451bana</td>\n",
       "    </tr>\n",
       "  </tbody>\n",
       "</table>\n",
       "</div>"
      ],
      "text/plain": [
       "   Unnamed: 0 Product_Brand  \\\n",
       "0           0          FRYE   \n",
       "1           1          FRYE   \n",
       "\n",
       "                                                                                                                                                                                                                     Shoe_Name  \\\n",
       "0                                                                Frye                                                        Kate Pull On                            Women                                                       \n",
       "1                                                              Frye                                                        Campus Chelsea                            Women                                                       \n",
       "\n",
       "         Item_ID   Price  \\\n",
       "0   fr40818-blac  627.99   \n",
       "1   fr41451-bana  567.99   \n",
       "\n",
       "                                                                                                                                                                                                                                                                                                                                                                                                                                                                                                                                                                                                                                                                                                                                                                                 Product_Details  \\\n",
       "0  Intricate woodstock stitching detail gives the Kate Pull On Riding Boot from Frye an artisanal flair that comes to life on Frye's signature leathers. The Kate Pull On has a softer silhouette with its rounded toe and paired with a cushioned footbed and rubber outsole, the versatile 2-inch block heel is easy to walk in, while providing a flattering lift to any look. Pair with above-the-knee skirts or with straight-leg denim for year-round wear.                          Features & Benefits                         Leather upperRound toeCushioned footbedWoodstock stitching detailCircumference: 15 inchesShaft Height: 14 inchesRubber outsole2-inch block heel                               Design Elements                         LeatherRubber SoleContoured Footbed   \n",
       "1                                                                The Campus Chelsea  boot from Frye delivers the same iconic appeal in a versatile, ankle-high design. Featuring Goodwear welt construction, these boots exude an authentic, rustic charm with a chunky block heel that provides a cushioned base. Whether paired with your favorite flair jeans or a breezy boho maxi dress, embrace the best of both worlds with the Campus Chelsea - effortless style and all-day wearability.                          Features & Benefits                         Leather upperGood year welt constructionStitching detailsHeel pull loopRound toe silhouetteShaft Height: 10 inchesHeel Height: 1 3/4 in                               Design Elements                         LeatherWelt   \n",
       "\n",
       "                                                                                                     Link  \n",
       "0  https://www.softmoc.com/ca/i/frye/womens/boots/lds-kate-pull-on-leather-riding-boot--black/fr40818blac  \n",
       "1      https://www.softmoc.com/ca/i/frye/womens/boots/lds-campus-chelsea-leather-boot--banana/fr41451bana  "
      ]
     },
     "execution_count": 4,
     "metadata": {},
     "output_type": "execute_result"
    }
   ],
   "source": [
    "data2 = pd.read_csv(r'C:\\Users\\msi1\\Videos\\LLama_Project\\Shoe_LLama\\SoftMoc_Womens.csv')\n",
    "data2.head(2)"
   ]
  },
  {
   "cell_type": "code",
   "execution_count": 5,
   "metadata": {},
   "outputs": [
    {
     "data": {
      "text/plain": [
       "1148"
      ]
     },
     "execution_count": 5,
     "metadata": {},
     "output_type": "execute_result"
    }
   ],
   "source": [
    "data2.size"
   ]
  },
  {
   "cell_type": "code",
   "execution_count": null,
   "metadata": {},
   "outputs": [],
   "source": []
  }
 ],
 "metadata": {
  "kernelspec": {
   "display_name": "venv",
   "language": "python",
   "name": "python3"
  },
  "language_info": {
   "codemirror_mode": {
    "name": "ipython",
    "version": 3
   },
   "file_extension": ".py",
   "mimetype": "text/x-python",
   "name": "python",
   "nbconvert_exporter": "python",
   "pygments_lexer": "ipython3",
   "version": "3.10.8"
  }
 },
 "nbformat": 4,
 "nbformat_minor": 2
}
